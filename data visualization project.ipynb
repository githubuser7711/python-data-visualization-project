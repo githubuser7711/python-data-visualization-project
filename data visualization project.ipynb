{
 "cells": [
  {
   "cell_type": "markdown",
   "id": "e18be9c2",
   "metadata": {},
   "source": [
    "# 1 Importing all important library"
   ]
  },
  {
   "cell_type": "code",
   "execution_count": 1,
   "id": "8e4da93f",
   "metadata": {},
   "outputs": [],
   "source": [
    "import pandas as pd\n",
    "import numpy as np\n",
    "import matplotlib.pyplot as plt\n",
    "import seaborn as sns\n",
    "import warnings\n",
    "warnings.filterwarnings(\"ignore\")"
   ]
  },
  {
   "cell_type": "markdown",
   "id": "d809229f",
   "metadata": {},
   "source": [
    "# 2. Reading file"
   ]
  },
  {
   "cell_type": "code",
   "execution_count": 2,
   "id": "c407b09f",
   "metadata": {},
   "outputs": [],
   "source": [
    "df=pd.read_csv(\"ADO April 2023 - Inflation.csv\",encoding=\"unicode_escape\")"
   ]
  },
  {
   "cell_type": "markdown",
   "id": "80dfef02",
   "metadata": {},
   "source": [
    "# 3. First 5 rows"
   ]
  },
  {
   "cell_type": "code",
   "execution_count": 3,
   "id": "efdcd139",
   "metadata": {},
   "outputs": [
    {
     "data": {
      "text/html": [
       "<div>\n",
       "<style scoped>\n",
       "    .dataframe tbody tr th:only-of-type {\n",
       "        vertical-align: middle;\n",
       "    }\n",
       "\n",
       "    .dataframe tbody tr th {\n",
       "        vertical-align: top;\n",
       "    }\n",
       "\n",
       "    .dataframe thead th {\n",
       "        text-align: right;\n",
       "    }\n",
       "</style>\n",
       "<table border=\"1\" class=\"dataframe\">\n",
       "  <thead>\n",
       "    <tr style=\"text-align: right;\">\n",
       "      <th></th>\n",
       "      <th>RegionalMember</th>\n",
       "      <th>Year</th>\n",
       "      <th>Inflation</th>\n",
       "      <th>Unit of Measurement</th>\n",
       "      <th>Subregion</th>\n",
       "      <th>Country Code</th>\n",
       "    </tr>\n",
       "  </thead>\n",
       "  <tbody>\n",
       "    <tr>\n",
       "      <th>0</th>\n",
       "      <td>Developing Asia</td>\n",
       "      <td>2018</td>\n",
       "      <td>2.7</td>\n",
       "      <td>%</td>\n",
       "      <td>NaN</td>\n",
       "      <td>NaN</td>\n",
       "    </tr>\n",
       "    <tr>\n",
       "      <th>1</th>\n",
       "      <td>Developing Asia</td>\n",
       "      <td>2019</td>\n",
       "      <td>3.2</td>\n",
       "      <td>%</td>\n",
       "      <td>NaN</td>\n",
       "      <td>NaN</td>\n",
       "    </tr>\n",
       "    <tr>\n",
       "      <th>2</th>\n",
       "      <td>Developing Asia</td>\n",
       "      <td>2020</td>\n",
       "      <td>3.3</td>\n",
       "      <td>%</td>\n",
       "      <td>NaN</td>\n",
       "      <td>NaN</td>\n",
       "    </tr>\n",
       "    <tr>\n",
       "      <th>3</th>\n",
       "      <td>Developing Asia</td>\n",
       "      <td>2021</td>\n",
       "      <td>2.6</td>\n",
       "      <td>%</td>\n",
       "      <td>NaN</td>\n",
       "      <td>NaN</td>\n",
       "    </tr>\n",
       "    <tr>\n",
       "      <th>4</th>\n",
       "      <td>Developing Asia</td>\n",
       "      <td>2022</td>\n",
       "      <td>4.4</td>\n",
       "      <td>%</td>\n",
       "      <td>NaN</td>\n",
       "      <td>NaN</td>\n",
       "    </tr>\n",
       "  </tbody>\n",
       "</table>\n",
       "</div>"
      ],
      "text/plain": [
       "    RegionalMember  Year  Inflation Unit of Measurement  Subregion  \\\n",
       "0  Developing Asia  2018        2.7                   %        NaN   \n",
       "1  Developing Asia  2019        3.2                   %        NaN   \n",
       "2  Developing Asia  2020        3.3                   %        NaN   \n",
       "3  Developing Asia  2021        2.6                   %        NaN   \n",
       "4  Developing Asia  2022        4.4                   %        NaN   \n",
       "\n",
       "   Country Code  \n",
       "0           NaN  \n",
       "1           NaN  \n",
       "2           NaN  \n",
       "3           NaN  \n",
       "4           NaN  "
      ]
     },
     "execution_count": 3,
     "metadata": {},
     "output_type": "execute_result"
    }
   ],
   "source": [
    "df.head()"
   ]
  },
  {
   "cell_type": "markdown",
   "id": "637a5447",
   "metadata": {},
   "source": [
    "# 4. Last five rows "
   ]
  },
  {
   "cell_type": "code",
   "execution_count": 4,
   "id": "e9522484",
   "metadata": {},
   "outputs": [
    {
     "data": {
      "text/html": [
       "<div>\n",
       "<style scoped>\n",
       "    .dataframe tbody tr th:only-of-type {\n",
       "        vertical-align: middle;\n",
       "    }\n",
       "\n",
       "    .dataframe tbody tr th {\n",
       "        vertical-align: top;\n",
       "    }\n",
       "\n",
       "    .dataframe thead th {\n",
       "        text-align: right;\n",
       "    }\n",
       "</style>\n",
       "<table border=\"1\" class=\"dataframe\">\n",
       "  <thead>\n",
       "    <tr style=\"text-align: right;\">\n",
       "      <th></th>\n",
       "      <th>RegionalMember</th>\n",
       "      <th>Year</th>\n",
       "      <th>Inflation</th>\n",
       "      <th>Unit of Measurement</th>\n",
       "      <th>Subregion</th>\n",
       "      <th>Country Code</th>\n",
       "    </tr>\n",
       "  </thead>\n",
       "  <tbody>\n",
       "    <tr>\n",
       "      <th>366</th>\n",
       "      <td>Vanuatu</td>\n",
       "      <td>2020</td>\n",
       "      <td>5.3</td>\n",
       "      <td>%</td>\n",
       "      <td>The Pacific</td>\n",
       "      <td>VUT</td>\n",
       "    </tr>\n",
       "    <tr>\n",
       "      <th>367</th>\n",
       "      <td>Vanuatu</td>\n",
       "      <td>2021</td>\n",
       "      <td>2.3</td>\n",
       "      <td>%</td>\n",
       "      <td>The Pacific</td>\n",
       "      <td>VUT</td>\n",
       "    </tr>\n",
       "    <tr>\n",
       "      <th>368</th>\n",
       "      <td>Vanuatu</td>\n",
       "      <td>2022</td>\n",
       "      <td>4.8</td>\n",
       "      <td>%</td>\n",
       "      <td>The Pacific</td>\n",
       "      <td>VUT</td>\n",
       "    </tr>\n",
       "    <tr>\n",
       "      <th>369</th>\n",
       "      <td>Vanuatu</td>\n",
       "      <td>2023 forecast</td>\n",
       "      <td>4.0</td>\n",
       "      <td>%</td>\n",
       "      <td>The Pacific</td>\n",
       "      <td>VUT</td>\n",
       "    </tr>\n",
       "    <tr>\n",
       "      <th>370</th>\n",
       "      <td>Vanuatu</td>\n",
       "      <td>2024 forecast</td>\n",
       "      <td>3.0</td>\n",
       "      <td>%</td>\n",
       "      <td>The Pacific</td>\n",
       "      <td>VUT</td>\n",
       "    </tr>\n",
       "  </tbody>\n",
       "</table>\n",
       "</div>"
      ],
      "text/plain": [
       "    RegionalMember           Year  Inflation Unit of Measurement    Subregion  \\\n",
       "366        Vanuatu           2020        5.3                   %  The Pacific   \n",
       "367        Vanuatu           2021        2.3                   %  The Pacific   \n",
       "368        Vanuatu           2022        4.8                   %  The Pacific   \n",
       "369        Vanuatu  2023 forecast        4.0                   %  The Pacific   \n",
       "370        Vanuatu  2024 forecast        3.0                   %  The Pacific   \n",
       "\n",
       "     Country Code  \n",
       "366           VUT  \n",
       "367           VUT  \n",
       "368           VUT  \n",
       "369           VUT  \n",
       "370           VUT  "
      ]
     },
     "execution_count": 4,
     "metadata": {},
     "output_type": "execute_result"
    }
   ],
   "source": [
    "df.tail()"
   ]
  },
  {
   "cell_type": "markdown",
   "id": "d160395c",
   "metadata": {},
   "source": [
    "# 5. All Information about Dataset"
   ]
  },
  {
   "cell_type": "code",
   "execution_count": 5,
   "id": "8147530d",
   "metadata": {},
   "outputs": [
    {
     "name": "stdout",
     "output_type": "stream",
     "text": [
      "<class 'pandas.core.frame.DataFrame'>\n",
      "RangeIndex: 371 entries, 0 to 370\n",
      "Data columns (total 6 columns):\n",
      " #   Column               Non-Null Count  Dtype  \n",
      "---  ------               --------------  -----  \n",
      " 0   RegionalMember       371 non-null    object \n",
      " 1   Year                 371 non-null    object \n",
      " 2   Inflation            365 non-null    float64\n",
      " 3   Unit of Measurement  371 non-null    object \n",
      " 4    Subregion           357 non-null    object \n",
      " 5    Country Code        322 non-null    object \n",
      "dtypes: float64(1), object(5)\n",
      "memory usage: 17.5+ KB\n"
     ]
    }
   ],
   "source": [
    "df.info()"
   ]
  },
  {
   "cell_type": "code",
   "execution_count": 6,
   "id": "ff5f9a2e",
   "metadata": {},
   "outputs": [],
   "source": [
    "#Here are total 6 columns and 370 rows"
   ]
  },
  {
   "cell_type": "markdown",
   "id": "72236808",
   "metadata": {},
   "source": [
    "#  6. Statistics about Data"
   ]
  },
  {
   "cell_type": "code",
   "execution_count": 7,
   "id": "66a7c14a",
   "metadata": {},
   "outputs": [
    {
     "data": {
      "text/html": [
       "<div>\n",
       "<style scoped>\n",
       "    .dataframe tbody tr th:only-of-type {\n",
       "        vertical-align: middle;\n",
       "    }\n",
       "\n",
       "    .dataframe tbody tr th {\n",
       "        vertical-align: top;\n",
       "    }\n",
       "\n",
       "    .dataframe thead th {\n",
       "        text-align: right;\n",
       "    }\n",
       "</style>\n",
       "<table border=\"1\" class=\"dataframe\">\n",
       "  <thead>\n",
       "    <tr style=\"text-align: right;\">\n",
       "      <th></th>\n",
       "      <th>RegionalMember</th>\n",
       "      <th>Year</th>\n",
       "      <th>Inflation</th>\n",
       "      <th>Unit of Measurement</th>\n",
       "      <th>Subregion</th>\n",
       "      <th>Country Code</th>\n",
       "    </tr>\n",
       "  </thead>\n",
       "  <tbody>\n",
       "    <tr>\n",
       "      <th>count</th>\n",
       "      <td>371</td>\n",
       "      <td>371</td>\n",
       "      <td>365.000000</td>\n",
       "      <td>371</td>\n",
       "      <td>357</td>\n",
       "      <td>322</td>\n",
       "    </tr>\n",
       "    <tr>\n",
       "      <th>unique</th>\n",
       "      <td>53</td>\n",
       "      <td>7</td>\n",
       "      <td>NaN</td>\n",
       "      <td>1</td>\n",
       "      <td>5</td>\n",
       "      <td>46</td>\n",
       "    </tr>\n",
       "    <tr>\n",
       "      <th>top</th>\n",
       "      <td>Developing Asia</td>\n",
       "      <td>2018</td>\n",
       "      <td>NaN</td>\n",
       "      <td>%</td>\n",
       "      <td>The Pacific</td>\n",
       "      <td>ARM</td>\n",
       "    </tr>\n",
       "    <tr>\n",
       "      <th>freq</th>\n",
       "      <td>7</td>\n",
       "      <td>53</td>\n",
       "      <td>NaN</td>\n",
       "      <td>371</td>\n",
       "      <td>105</td>\n",
       "      <td>7</td>\n",
       "    </tr>\n",
       "    <tr>\n",
       "      <th>mean</th>\n",
       "      <td>NaN</td>\n",
       "      <td>NaN</td>\n",
       "      <td>4.728767</td>\n",
       "      <td>NaN</td>\n",
       "      <td>NaN</td>\n",
       "      <td>NaN</td>\n",
       "    </tr>\n",
       "    <tr>\n",
       "      <th>std</th>\n",
       "      <td>NaN</td>\n",
       "      <td>NaN</td>\n",
       "      <td>4.555189</td>\n",
       "      <td>NaN</td>\n",
       "      <td>NaN</td>\n",
       "      <td>NaN</td>\n",
       "    </tr>\n",
       "    <tr>\n",
       "      <th>min</th>\n",
       "      <td>NaN</td>\n",
       "      <td>NaN</td>\n",
       "      <td>-6.600000</td>\n",
       "      <td>NaN</td>\n",
       "      <td>NaN</td>\n",
       "      <td>NaN</td>\n",
       "    </tr>\n",
       "    <tr>\n",
       "      <th>25%</th>\n",
       "      <td>NaN</td>\n",
       "      <td>NaN</td>\n",
       "      <td>2.200000</td>\n",
       "      <td>NaN</td>\n",
       "      <td>NaN</td>\n",
       "      <td>NaN</td>\n",
       "    </tr>\n",
       "    <tr>\n",
       "      <th>50%</th>\n",
       "      <td>NaN</td>\n",
       "      <td>NaN</td>\n",
       "      <td>3.700000</td>\n",
       "      <td>NaN</td>\n",
       "      <td>NaN</td>\n",
       "      <td>NaN</td>\n",
       "    </tr>\n",
       "    <tr>\n",
       "      <th>75%</th>\n",
       "      <td>NaN</td>\n",
       "      <td>NaN</td>\n",
       "      <td>6.200000</td>\n",
       "      <td>NaN</td>\n",
       "      <td>NaN</td>\n",
       "      <td>NaN</td>\n",
       "    </tr>\n",
       "    <tr>\n",
       "      <th>max</th>\n",
       "      <td>NaN</td>\n",
       "      <td>NaN</td>\n",
       "      <td>46.400000</td>\n",
       "      <td>NaN</td>\n",
       "      <td>NaN</td>\n",
       "      <td>NaN</td>\n",
       "    </tr>\n",
       "  </tbody>\n",
       "</table>\n",
       "</div>"
      ],
      "text/plain": [
       "         RegionalMember  Year   Inflation Unit of Measurement    Subregion  \\\n",
       "count               371   371  365.000000                 371          357   \n",
       "unique               53     7         NaN                   1            5   \n",
       "top     Developing Asia  2018         NaN                   %  The Pacific   \n",
       "freq                  7    53         NaN                 371          105   \n",
       "mean                NaN   NaN    4.728767                 NaN          NaN   \n",
       "std                 NaN   NaN    4.555189                 NaN          NaN   \n",
       "min                 NaN   NaN   -6.600000                 NaN          NaN   \n",
       "25%                 NaN   NaN    2.200000                 NaN          NaN   \n",
       "50%                 NaN   NaN    3.700000                 NaN          NaN   \n",
       "75%                 NaN   NaN    6.200000                 NaN          NaN   \n",
       "max                 NaN   NaN   46.400000                 NaN          NaN   \n",
       "\n",
       "        Country Code  \n",
       "count            322  \n",
       "unique            46  \n",
       "top              ARM  \n",
       "freq               7  \n",
       "mean             NaN  \n",
       "std              NaN  \n",
       "min              NaN  \n",
       "25%              NaN  \n",
       "50%              NaN  \n",
       "75%              NaN  \n",
       "max              NaN  "
      ]
     },
     "execution_count": 7,
     "metadata": {},
     "output_type": "execute_result"
    }
   ],
   "source": [
    "df.describe(include='all')"
   ]
  },
  {
   "cell_type": "markdown",
   "id": "a249df0e",
   "metadata": {},
   "source": [
    "# 7.cheking Null values"
   ]
  },
  {
   "cell_type": "code",
   "execution_count": 8,
   "id": "8941de50",
   "metadata": {},
   "outputs": [
    {
     "data": {
      "text/plain": [
       "RegionalMember          0.000000\n",
       "Year                    0.000000\n",
       "Inflation               1.617251\n",
       "Unit of Measurement     0.000000\n",
       " Subregion              3.773585\n",
       " Country Code          13.207547\n",
       "dtype: float64"
      ]
     },
     "execution_count": 8,
     "metadata": {},
     "output_type": "execute_result"
    }
   ],
   "source": [
    "df.isnull().sum()/len(df)*100"
   ]
  },
  {
   "cell_type": "markdown",
   "id": "6bccc9cb",
   "metadata": {},
   "source": [
    "# **** Starting EDA ******"
   ]
  },
  {
   "cell_type": "markdown",
   "id": "a3b3978c",
   "metadata": {},
   "source": [
    "# 8. Seprating numerical columns and categorical columns"
   ]
  },
  {
   "cell_type": "code",
   "execution_count": 9,
   "id": "eb45cecd",
   "metadata": {},
   "outputs": [],
   "source": [
    "# Categorical columns"
   ]
  },
  {
   "cell_type": "code",
   "execution_count": 10,
   "id": "fe75ce68",
   "metadata": {},
   "outputs": [
    {
     "data": {
      "text/plain": [
       "Index(['RegionalMember', 'Year', 'Unit of Measurement', ' Subregion',\n",
       "       ' Country Code'],\n",
       "      dtype='object')"
      ]
     },
     "execution_count": 10,
     "metadata": {},
     "output_type": "execute_result"
    }
   ],
   "source": [
    "cat_col=df.select_dtypes(include=[\"O\"]).columns\n",
    "cat_col"
   ]
  },
  {
   "cell_type": "code",
   "execution_count": 11,
   "id": "0cd2f8ed",
   "metadata": {},
   "outputs": [],
   "source": [
    "# Numerical columns"
   ]
  },
  {
   "cell_type": "code",
   "execution_count": 12,
   "id": "5a913ad6",
   "metadata": {},
   "outputs": [
    {
     "data": {
      "text/plain": [
       "Index(['Inflation'], dtype='object')"
      ]
     },
     "execution_count": 12,
     "metadata": {},
     "output_type": "execute_result"
    }
   ],
   "source": [
    "num_col=df.select_dtypes(include=['int','float']).columns\n",
    "num_col"
   ]
  },
  {
   "cell_type": "code",
   "execution_count": 13,
   "id": "1b21fdb0",
   "metadata": {},
   "outputs": [
    {
     "data": {
      "text/plain": [
       "array(['Developing Asia', 'Developing Asia excluding the PRC',\n",
       "       'Caucasus and Central Asia', 'Armenia', 'Azerbaijan', 'Georgia',\n",
       "       'Kazakhstan', 'Kyrgyz Republic', 'Tajikistan', 'Turkmenistan',\n",
       "       'Uzbekistan', 'East Asia', 'Hong Kong, China', 'Mongolia',\n",
       "       \"People's Republic of China\", 'Republic of Korea', 'Taipei,China',\n",
       "       'South Asia', 'Afghanistan', 'Bangladesh', 'Bhutan', 'India',\n",
       "       'Maldives', 'Nepal', 'Pakistan', 'Sri Lanka', 'Southeast Asia',\n",
       "       'Brunei Darussalam', 'Cambodia', 'Indonesia',\n",
       "       'Lao People\\x92s Dem. Rep.', 'Malaysia', 'Myanmar', 'Philippines',\n",
       "       'Singapore', 'Thailand', 'Timor-Leste', 'Viet Nam', 'The Pacific',\n",
       "       'Cook Islands', 'Federated States of Micronesia', 'Fiji',\n",
       "       'Kiribati', 'Marshall Islands', 'Nauru', 'Niue', 'Palau',\n",
       "       'Papua New Guinea', 'Samoa', 'Solomon Islands', 'Tonga', 'Tuvalu',\n",
       "       'Vanuatu'], dtype=object)"
      ]
     },
     "execution_count": 13,
     "metadata": {},
     "output_type": "execute_result"
    }
   ],
   "source": [
    "df['RegionalMember'].unique()"
   ]
  },
  {
   "cell_type": "code",
   "execution_count": 14,
   "id": "8a46a153",
   "metadata": {},
   "outputs": [
    {
     "data": {
      "text/plain": [
       "array(['2018', '2019', '2020', '2021', '2022', '2023 forecast',\n",
       "       '2024 forecast'], dtype=object)"
      ]
     },
     "execution_count": 14,
     "metadata": {},
     "output_type": "execute_result"
    }
   ],
   "source": [
    "df['Year'].unique()"
   ]
  },
  {
   "cell_type": "code",
   "execution_count": 15,
   "id": "19e667e4",
   "metadata": {},
   "outputs": [],
   "source": [
    "df['Year']=df['Year'].str.replace('forecast','')"
   ]
  },
  {
   "cell_type": "code",
   "execution_count": 16,
   "id": "72bc95f5",
   "metadata": {},
   "outputs": [
    {
     "data": {
      "text/plain": [
       "array(['2018', '2019', '2020', '2021', '2022', '2023 ', '2024 '],\n",
       "      dtype=object)"
      ]
     },
     "execution_count": 16,
     "metadata": {},
     "output_type": "execute_result"
    }
   ],
   "source": [
    "df['Year'].unique()"
   ]
  },
  {
   "cell_type": "code",
   "execution_count": 17,
   "id": "7c5fe328",
   "metadata": {},
   "outputs": [],
   "source": [
    "df['Year']=df['Year'].astype('int')"
   ]
  },
  {
   "cell_type": "code",
   "execution_count": 18,
   "id": "6f1f8864",
   "metadata": {},
   "outputs": [
    {
     "data": {
      "text/plain": [
       "dtype('int32')"
      ]
     },
     "execution_count": 18,
     "metadata": {},
     "output_type": "execute_result"
    }
   ],
   "source": [
    "df['Year'].dtype"
   ]
  },
  {
   "cell_type": "code",
   "execution_count": null,
   "id": "623aea70",
   "metadata": {},
   "outputs": [],
   "source": []
  },
  {
   "cell_type": "code",
   "execution_count": 19,
   "id": "074bbc48",
   "metadata": {},
   "outputs": [
    {
     "data": {
      "text/plain": [
       "array(['%'], dtype=object)"
      ]
     },
     "execution_count": 19,
     "metadata": {},
     "output_type": "execute_result"
    }
   ],
   "source": [
    "df['Unit of Measurement'].unique()"
   ]
  },
  {
   "cell_type": "code",
   "execution_count": 20,
   "id": "9f1b3727",
   "metadata": {},
   "outputs": [
    {
     "data": {
      "text/plain": [
       "array([nan, 'Central Asia', 'East Asia', 'South Asia', 'Southeast Asia',\n",
       "       'The Pacific'], dtype=object)"
      ]
     },
     "execution_count": 20,
     "metadata": {},
     "output_type": "execute_result"
    }
   ],
   "source": [
    "df[' Subregion'].unique()"
   ]
  },
  {
   "cell_type": "markdown",
   "id": "cb898fed",
   "metadata": {},
   "source": [
    "# 9. Display Bar plot of top five subregion  "
   ]
  },
  {
   "cell_type": "code",
   "execution_count": 21,
   "id": "bc755bc1",
   "metadata": {},
   "outputs": [
    {
     "data": {
      "text/plain": [
       "<AxesSubplot:ylabel=' Subregion'>"
      ]
     },
     "execution_count": 21,
     "metadata": {},
     "output_type": "execute_result"
    },
    {
     "data": {
      "image/png": "[encoded data removed]",
      "text/plain": [
       "<Figure size 640x480 with 1 Axes>"
      ]
     },
     "metadata": {},
     "output_type": "display_data"
    }
   ],
   "source": [
    "df[' Subregion'].value_counts().head().plot(kind='pie',autopct='%.2f%%')"
   ]
  },
  {
   "cell_type": "code",
   "execution_count": 22,
   "id": "0b2861ce",
   "metadata": {},
   "outputs": [
    {
     "data": {
      "text/plain": [
       "array([nan, 'ARM', 'AZE', 'GEO', 'KAZ', 'KGZ', 'TJK', 'TKM', 'UZB', 'HKG',\n",
       "       'MNG', 'CHN', 'KOR', 'TWN', 'AFG', 'BGD', 'BTN', 'IND', 'MDV',\n",
       "       'NPL', 'PAK', 'LKA', 'BRN', 'KHM', 'IDN', 'LAO', 'MYS', 'MMR',\n",
       "       'PHL', 'SGP', 'THA', 'TLS', 'VNM', 'COO', 'FSM', 'FJI', 'KIR',\n",
       "       'MHL', 'NRU', 'NIU', 'PLW', 'PNG', 'WSM', 'SLB', 'TON', 'TUV',\n",
       "       'VUT'], dtype=object)"
      ]
     },
     "execution_count": 22,
     "metadata": {},
     "output_type": "execute_result"
    }
   ],
   "source": [
    "df[' Country Code'].unique()"
   ]
  },
  {
   "cell_type": "code",
   "execution_count": 23,
   "id": "33135e64",
   "metadata": {},
   "outputs": [
    {
     "data": {
      "text/plain": [
       "AFG    1\n",
       "SLB    1\n",
       "MYS    1\n",
       "NIU    1\n",
       "NPL    1\n",
       "NRU    1\n",
       "PAK    1\n",
       "PHL    1\n",
       "PLW    1\n",
       "PNG    1\n",
       "SGP    1\n",
       "THA    1\n",
       "ARM    1\n",
       "TJK    1\n",
       "TKM    1\n",
       "TLS    1\n",
       "TON    1\n",
       "TUV    1\n",
       "TWN    1\n",
       "UZB    1\n",
       "VNM    1\n",
       "VUT    1\n",
       "MNG    1\n",
       "MMR    1\n",
       "MHL    1\n",
       "MDV    1\n",
       "AZE    1\n",
       "BGD    1\n",
       "BRN    1\n",
       "BTN    1\n",
       "CHN    1\n",
       "COO    1\n",
       "FJI    1\n",
       "FSM    1\n",
       "GEO    1\n",
       "HKG    1\n",
       "IDN    1\n",
       "IND    1\n",
       "KAZ    1\n",
       "KGZ    1\n",
       "KHM    1\n",
       "KIR    1\n",
       "KOR    1\n",
       "LAO    1\n",
       "LKA    1\n",
       "WSM    1\n",
       "Name:  Country Code, dtype: int64"
      ]
     },
     "execution_count": 23,
     "metadata": {},
     "output_type": "execute_result"
    }
   ],
   "source": [
    "df[' Country Code'].mode().value_counts()"
   ]
  },
  {
   "cell_type": "code",
   "execution_count": 24,
   "id": "04833877",
   "metadata": {},
   "outputs": [],
   "source": [
    "df[' Country Code']=df[' Country Code'].str.replace(\"nan\",'AFG')"
   ]
  },
  {
   "cell_type": "code",
   "execution_count": 25,
   "id": "f24876d2",
   "metadata": {},
   "outputs": [
    {
     "data": {
      "text/plain": [
       "array([nan, 'ARM', 'AZE', 'GEO', 'KAZ', 'KGZ', 'TJK', 'TKM', 'UZB', 'HKG',\n",
       "       'MNG', 'CHN', 'KOR', 'TWN', 'AFG', 'BGD', 'BTN', 'IND', 'MDV',\n",
       "       'NPL', 'PAK', 'LKA', 'BRN', 'KHM', 'IDN', 'LAO', 'MYS', 'MMR',\n",
       "       'PHL', 'SGP', 'THA', 'TLS', 'VNM', 'COO', 'FSM', 'FJI', 'KIR',\n",
       "       'MHL', 'NRU', 'NIU', 'PLW', 'PNG', 'WSM', 'SLB', 'TON', 'TUV',\n",
       "       'VUT'], dtype=object)"
      ]
     },
     "execution_count": 25,
     "metadata": {},
     "output_type": "execute_result"
    }
   ],
   "source": [
    "df[' Country Code'].unique()"
   ]
  },
  {
   "cell_type": "markdown",
   "id": "9f056aa6",
   "metadata": {},
   "source": [
    "#  10.Display bar plot of top 5 country code"
   ]
  },
  {
   "cell_type": "code",
   "execution_count": 26,
   "id": "328ff5a5",
   "metadata": {},
   "outputs": [
    {
     "data": {
      "text/plain": [
       "<AxesSubplot:ylabel=' Country Code'>"
      ]
     },
     "execution_count": 26,
     "metadata": {},
     "output_type": "execute_result"
    },
    {
     "data": {
      "image/png": "[encoded data removed]",
      "text/plain": [
       "<Figure size 640x480 with 1 Axes>"
      ]
     },
     "metadata": {},
     "output_type": "display_data"
    }
   ],
   "source": [
    "df[' Country Code'].value_counts().head().plot(kind='pie',autopct=\"%.2f%%\")"
   ]
  },
  {
   "cell_type": "code",
   "execution_count": 27,
   "id": "d3c35d4e",
   "metadata": {},
   "outputs": [
    {
     "data": {
      "text/html": [
       "<div>\n",
       "<style scoped>\n",
       "    .dataframe tbody tr th:only-of-type {\n",
       "        vertical-align: middle;\n",
       "    }\n",
       "\n",
       "    .dataframe tbody tr th {\n",
       "        vertical-align: top;\n",
       "    }\n",
       "\n",
       "    .dataframe thead th {\n",
       "        text-align: right;\n",
       "    }\n",
       "</style>\n",
       "<table border=\"1\" class=\"dataframe\">\n",
       "  <thead>\n",
       "    <tr style=\"text-align: right;\">\n",
       "      <th></th>\n",
       "      <th>RegionalMember</th>\n",
       "      <th>Year</th>\n",
       "      <th>Inflation</th>\n",
       "      <th>Unit of Measurement</th>\n",
       "      <th>Subregion</th>\n",
       "      <th>Country Code</th>\n",
       "    </tr>\n",
       "  </thead>\n",
       "  <tbody>\n",
       "    <tr>\n",
       "      <th>0</th>\n",
       "      <td>Developing Asia</td>\n",
       "      <td>2018</td>\n",
       "      <td>2.7</td>\n",
       "      <td>%</td>\n",
       "      <td>NaN</td>\n",
       "      <td>NaN</td>\n",
       "    </tr>\n",
       "    <tr>\n",
       "      <th>1</th>\n",
       "      <td>Developing Asia</td>\n",
       "      <td>2019</td>\n",
       "      <td>3.2</td>\n",
       "      <td>%</td>\n",
       "      <td>NaN</td>\n",
       "      <td>NaN</td>\n",
       "    </tr>\n",
       "    <tr>\n",
       "      <th>2</th>\n",
       "      <td>Developing Asia</td>\n",
       "      <td>2020</td>\n",
       "      <td>3.3</td>\n",
       "      <td>%</td>\n",
       "      <td>NaN</td>\n",
       "      <td>NaN</td>\n",
       "    </tr>\n",
       "    <tr>\n",
       "      <th>3</th>\n",
       "      <td>Developing Asia</td>\n",
       "      <td>2021</td>\n",
       "      <td>2.6</td>\n",
       "      <td>%</td>\n",
       "      <td>NaN</td>\n",
       "      <td>NaN</td>\n",
       "    </tr>\n",
       "    <tr>\n",
       "      <th>4</th>\n",
       "      <td>Developing Asia</td>\n",
       "      <td>2022</td>\n",
       "      <td>4.4</td>\n",
       "      <td>%</td>\n",
       "      <td>NaN</td>\n",
       "      <td>NaN</td>\n",
       "    </tr>\n",
       "    <tr>\n",
       "      <th>...</th>\n",
       "      <td>...</td>\n",
       "      <td>...</td>\n",
       "      <td>...</td>\n",
       "      <td>...</td>\n",
       "      <td>...</td>\n",
       "      <td>...</td>\n",
       "    </tr>\n",
       "    <tr>\n",
       "      <th>366</th>\n",
       "      <td>Vanuatu</td>\n",
       "      <td>2020</td>\n",
       "      <td>5.3</td>\n",
       "      <td>%</td>\n",
       "      <td>The Pacific</td>\n",
       "      <td>VUT</td>\n",
       "    </tr>\n",
       "    <tr>\n",
       "      <th>367</th>\n",
       "      <td>Vanuatu</td>\n",
       "      <td>2021</td>\n",
       "      <td>2.3</td>\n",
       "      <td>%</td>\n",
       "      <td>The Pacific</td>\n",
       "      <td>VUT</td>\n",
       "    </tr>\n",
       "    <tr>\n",
       "      <th>368</th>\n",
       "      <td>Vanuatu</td>\n",
       "      <td>2022</td>\n",
       "      <td>4.8</td>\n",
       "      <td>%</td>\n",
       "      <td>The Pacific</td>\n",
       "      <td>VUT</td>\n",
       "    </tr>\n",
       "    <tr>\n",
       "      <th>369</th>\n",
       "      <td>Vanuatu</td>\n",
       "      <td>2023</td>\n",
       "      <td>4.0</td>\n",
       "      <td>%</td>\n",
       "      <td>The Pacific</td>\n",
       "      <td>VUT</td>\n",
       "    </tr>\n",
       "    <tr>\n",
       "      <th>370</th>\n",
       "      <td>Vanuatu</td>\n",
       "      <td>2024</td>\n",
       "      <td>3.0</td>\n",
       "      <td>%</td>\n",
       "      <td>The Pacific</td>\n",
       "      <td>VUT</td>\n",
       "    </tr>\n",
       "  </tbody>\n",
       "</table>\n",
       "<p>371 rows × 6 columns</p>\n",
       "</div>"
      ],
      "text/plain": [
       "      RegionalMember  Year  Inflation Unit of Measurement    Subregion  \\\n",
       "0    Developing Asia  2018        2.7                   %          NaN   \n",
       "1    Developing Asia  2019        3.2                   %          NaN   \n",
       "2    Developing Asia  2020        3.3                   %          NaN   \n",
       "3    Developing Asia  2021        2.6                   %          NaN   \n",
       "4    Developing Asia  2022        4.4                   %          NaN   \n",
       "..               ...   ...        ...                 ...          ...   \n",
       "366          Vanuatu  2020        5.3                   %  The Pacific   \n",
       "367          Vanuatu  2021        2.3                   %  The Pacific   \n",
       "368          Vanuatu  2022        4.8                   %  The Pacific   \n",
       "369          Vanuatu  2023        4.0                   %  The Pacific   \n",
       "370          Vanuatu  2024        3.0                   %  The Pacific   \n",
       "\n",
       "     Country Code  \n",
       "0             NaN  \n",
       "1             NaN  \n",
       "2             NaN  \n",
       "3             NaN  \n",
       "4             NaN  \n",
       "..            ...  \n",
       "366           VUT  \n",
       "367           VUT  \n",
       "368           VUT  \n",
       "369           VUT  \n",
       "370           VUT  \n",
       "\n",
       "[371 rows x 6 columns]"
      ]
     },
     "execution_count": 27,
     "metadata": {},
     "output_type": "execute_result"
    }
   ],
   "source": [
    "df"
   ]
  },
  {
   "cell_type": "markdown",
   "id": "0f355249",
   "metadata": {},
   "source": [
    "# 10. Display  All the information whoes inflamation is greater than 2.5"
   ]
  },
  {
   "cell_type": "code",
   "execution_count": 28,
   "id": "a5000c24",
   "metadata": {},
   "outputs": [
    {
     "data": {
      "text/html": [
       "<div>\n",
       "<style scoped>\n",
       "    .dataframe tbody tr th:only-of-type {\n",
       "        vertical-align: middle;\n",
       "    }\n",
       "\n",
       "    .dataframe tbody tr th {\n",
       "        vertical-align: top;\n",
       "    }\n",
       "\n",
       "    .dataframe thead th {\n",
       "        text-align: right;\n",
       "    }\n",
       "</style>\n",
       "<table border=\"1\" class=\"dataframe\">\n",
       "  <thead>\n",
       "    <tr style=\"text-align: right;\">\n",
       "      <th></th>\n",
       "      <th>RegionalMember</th>\n",
       "      <th>Year</th>\n",
       "      <th>Inflation</th>\n",
       "      <th>Unit of Measurement</th>\n",
       "      <th>Subregion</th>\n",
       "      <th>Country Code</th>\n",
       "    </tr>\n",
       "  </thead>\n",
       "  <tbody>\n",
       "    <tr>\n",
       "      <th>0</th>\n",
       "      <td>Developing Asia</td>\n",
       "      <td>2018</td>\n",
       "      <td>2.7</td>\n",
       "      <td>%</td>\n",
       "      <td>NaN</td>\n",
       "      <td>NaN</td>\n",
       "    </tr>\n",
       "    <tr>\n",
       "      <th>1</th>\n",
       "      <td>Developing Asia</td>\n",
       "      <td>2019</td>\n",
       "      <td>3.2</td>\n",
       "      <td>%</td>\n",
       "      <td>NaN</td>\n",
       "      <td>NaN</td>\n",
       "    </tr>\n",
       "    <tr>\n",
       "      <th>2</th>\n",
       "      <td>Developing Asia</td>\n",
       "      <td>2020</td>\n",
       "      <td>3.3</td>\n",
       "      <td>%</td>\n",
       "      <td>NaN</td>\n",
       "      <td>NaN</td>\n",
       "    </tr>\n",
       "    <tr>\n",
       "      <th>3</th>\n",
       "      <td>Developing Asia</td>\n",
       "      <td>2021</td>\n",
       "      <td>2.6</td>\n",
       "      <td>%</td>\n",
       "      <td>NaN</td>\n",
       "      <td>NaN</td>\n",
       "    </tr>\n",
       "    <tr>\n",
       "      <th>4</th>\n",
       "      <td>Developing Asia</td>\n",
       "      <td>2022</td>\n",
       "      <td>4.4</td>\n",
       "      <td>%</td>\n",
       "      <td>NaN</td>\n",
       "      <td>NaN</td>\n",
       "    </tr>\n",
       "    <tr>\n",
       "      <th>...</th>\n",
       "      <td>...</td>\n",
       "      <td>...</td>\n",
       "      <td>...</td>\n",
       "      <td>...</td>\n",
       "      <td>...</td>\n",
       "      <td>...</td>\n",
       "    </tr>\n",
       "    <tr>\n",
       "      <th>365</th>\n",
       "      <td>Vanuatu</td>\n",
       "      <td>2019</td>\n",
       "      <td>2.8</td>\n",
       "      <td>%</td>\n",
       "      <td>The Pacific</td>\n",
       "      <td>VUT</td>\n",
       "    </tr>\n",
       "    <tr>\n",
       "      <th>366</th>\n",
       "      <td>Vanuatu</td>\n",
       "      <td>2020</td>\n",
       "      <td>5.3</td>\n",
       "      <td>%</td>\n",
       "      <td>The Pacific</td>\n",
       "      <td>VUT</td>\n",
       "    </tr>\n",
       "    <tr>\n",
       "      <th>368</th>\n",
       "      <td>Vanuatu</td>\n",
       "      <td>2022</td>\n",
       "      <td>4.8</td>\n",
       "      <td>%</td>\n",
       "      <td>The Pacific</td>\n",
       "      <td>VUT</td>\n",
       "    </tr>\n",
       "    <tr>\n",
       "      <th>369</th>\n",
       "      <td>Vanuatu</td>\n",
       "      <td>2023</td>\n",
       "      <td>4.0</td>\n",
       "      <td>%</td>\n",
       "      <td>The Pacific</td>\n",
       "      <td>VUT</td>\n",
       "    </tr>\n",
       "    <tr>\n",
       "      <th>370</th>\n",
       "      <td>Vanuatu</td>\n",
       "      <td>2024</td>\n",
       "      <td>3.0</td>\n",
       "      <td>%</td>\n",
       "      <td>The Pacific</td>\n",
       "      <td>VUT</td>\n",
       "    </tr>\n",
       "  </tbody>\n",
       "</table>\n",
       "<p>242 rows × 6 columns</p>\n",
       "</div>"
      ],
      "text/plain": [
       "      RegionalMember  Year  Inflation Unit of Measurement    Subregion  \\\n",
       "0    Developing Asia  2018        2.7                   %          NaN   \n",
       "1    Developing Asia  2019        3.2                   %          NaN   \n",
       "2    Developing Asia  2020        3.3                   %          NaN   \n",
       "3    Developing Asia  2021        2.6                   %          NaN   \n",
       "4    Developing Asia  2022        4.4                   %          NaN   \n",
       "..               ...   ...        ...                 ...          ...   \n",
       "365          Vanuatu  2019        2.8                   %  The Pacific   \n",
       "366          Vanuatu  2020        5.3                   %  The Pacific   \n",
       "368          Vanuatu  2022        4.8                   %  The Pacific   \n",
       "369          Vanuatu  2023        4.0                   %  The Pacific   \n",
       "370          Vanuatu  2024        3.0                   %  The Pacific   \n",
       "\n",
       "     Country Code  \n",
       "0             NaN  \n",
       "1             NaN  \n",
       "2             NaN  \n",
       "3             NaN  \n",
       "4             NaN  \n",
       "..            ...  \n",
       "365           VUT  \n",
       "366           VUT  \n",
       "368           VUT  \n",
       "369           VUT  \n",
       "370           VUT  \n",
       "\n",
       "[242 rows x 6 columns]"
      ]
     },
     "execution_count": 28,
     "metadata": {},
     "output_type": "execute_result"
    }
   ],
   "source": [
    "df[df['Inflation']>2.5]"
   ]
  },
  {
   "cell_type": "markdown",
   "id": "ef11d28c",
   "metadata": {},
   "source": [
    "# 11. Give the name of country which has maximum inflamation"
   ]
  },
  {
   "cell_type": "code",
   "execution_count": 29,
   "id": "6b0c0b63",
   "metadata": {},
   "outputs": [
    {
     "data": {
      "text/plain": [
       "RegionalMember\n",
       "Afghanistan    13.8\n",
       "Name: Inflation, dtype: float64"
      ]
     },
     "execution_count": 29,
     "metadata": {},
     "output_type": "execute_result"
    }
   ],
   "source": [
    "df.groupby('RegionalMember')['Inflation'].max().head(1)"
   ]
  },
  {
   "cell_type": "markdown",
   "id": "3bd1be69",
   "metadata": {},
   "source": [
    "#  12.Give the name of country which has minimum inflamation"
   ]
  },
  {
   "cell_type": "code",
   "execution_count": 30,
   "id": "6f9026ae",
   "metadata": {},
   "outputs": [
    {
     "data": {
      "text/plain": [
       "RegionalMember\n",
       "Afghanistan    0.6\n",
       "Name: Inflation, dtype: float64"
      ]
     },
     "execution_count": 30,
     "metadata": {},
     "output_type": "execute_result"
    }
   ],
   "source": [
    "df.groupby('RegionalMember')['Inflation'].min().head(1)"
   ]
  },
  {
   "cell_type": "markdown",
   "id": "5f3667aa",
   "metadata": {},
   "source": [
    "# 13 Total number of country who participated in inflmation measurment"
   ]
  },
  {
   "cell_type": "code",
   "execution_count": 31,
   "id": "db1d5bd3",
   "metadata": {},
   "outputs": [
    {
     "data": {
      "text/plain": [
       "371"
      ]
     },
     "execution_count": 31,
     "metadata": {},
     "output_type": "execute_result"
    }
   ],
   "source": [
    "df[\"RegionalMember\"].count()"
   ]
  },
  {
   "cell_type": "code",
   "execution_count": null,
   "id": "f90c1675",
   "metadata": {},
   "outputs": [],
   "source": []
  }
 ],
 "metadata": {
  "kernelspec": {
   "display_name": "Python 3 (ipykernel)",
   "language": "python",
   "name": "python3"
  },
  "language_info": {
   "codemirror_mode": {
    "name": "ipython",
    "version": 3
   },
   "file_extension": ".py",
   "mimetype": "text/x-python",
   "name": "python",
   "nbconvert_exporter": "python",
   "pygments_lexer": "ipython3",
   "version": "3.11.5"
  }
 },
 "nbformat": 4,
 "nbformat_minor": 5
}
